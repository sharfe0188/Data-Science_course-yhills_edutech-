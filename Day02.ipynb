{
  "nbformat": 4,
  "nbformat_minor": 0,
  "metadata": {
    "colab": {
      "provenance": []
    },
    "kernelspec": {
      "name": "python3",
      "display_name": "Python 3"
    },
    "language_info": {
      "name": "python"
    }
  },
  "cells": [
    {
      "cell_type": "code",
      "execution_count": null,
      "metadata": {
        "id": "rwjbdRURwxjU"
      },
      "outputs": [],
      "source": []
    },
    {
      "cell_type": "markdown",
      "source": [
        "**Variable Naming**\n",
        "1. A variable name must start with a letter or an underscore.\n",
        "\n",
        "2. A variable name can't start with a number.\n",
        "\n",
        "3. A variable can only contain alpha numeric characters(a-Z,0-9, _).\n",
        "\n",
        "4. Variable names are case sensitive.\n",
        "\n",
        "5. Variable names can't be any of the python keyword."
      ],
      "metadata": {
        "id": "IP95VZDWxiLA"
      }
    },
    {
      "cell_type": "code",
      "source": [
        "Var = 10\n",
        "print(Var)"
      ],
      "metadata": {
        "colab": {
          "base_uri": "https://localhost:8080/"
        },
        "id": "0uEZtfe0yKlP",
        "outputId": "f01a0536-4223-4eac-fe8f-c38aa2e6f6d8"
      },
      "execution_count": null,
      "outputs": [
        {
          "output_type": "stream",
          "name": "stdout",
          "text": [
            "10\n"
          ]
        }
      ]
    },
    {
      "cell_type": "code",
      "source": [
        "_var = 10\n",
        "print(_var)"
      ],
      "metadata": {
        "colab": {
          "base_uri": "https://localhost:8080/"
        },
        "id": "pAW0zYNdyWjQ",
        "outputId": "62bc74e0-3c6d-4867-c027-0e8f56afffc0"
      },
      "execution_count": null,
      "outputs": [
        {
          "output_type": "stream",
          "name": "stdout",
          "text": [
            "10\n"
          ]
        }
      ]
    },
    {
      "cell_type": "code",
      "source": [
        "1var = 10\n",
        "print(1var)"
      ],
      "metadata": {
        "colab": {
          "base_uri": "https://localhost:8080/",
          "height": 109
        },
        "id": "wRh0LmSAyfUM",
        "outputId": "6b7f5a4d-de4d-4c94-df96-c340d784611b"
      },
      "execution_count": null,
      "outputs": [
        {
          "output_type": "error",
          "ename": "SyntaxError",
          "evalue": "invalid decimal literal (<ipython-input-3-73af354ae2e7>, line 1)",
          "traceback": [
            "\u001b[0;36m  File \u001b[0;32m\"<ipython-input-3-73af354ae2e7>\"\u001b[0;36m, line \u001b[0;32m1\u001b[0m\n\u001b[0;31m    1var = 10\u001b[0m\n\u001b[0m    ^\u001b[0m\n\u001b[0;31mSyntaxError\u001b[0m\u001b[0;31m:\u001b[0m invalid decimal literal\n"
          ]
        }
      ]
    },
    {
      "cell_type": "code",
      "source": [
        "def = 10\n",
        "print(def)"
      ],
      "metadata": {
        "colab": {
          "base_uri": "https://localhost:8080/",
          "height": 109
        },
        "id": "L7tIUOO-yxJE",
        "outputId": "e61d398e-c663-4707-f134-f98d98d169c8"
      },
      "execution_count": null,
      "outputs": [
        {
          "output_type": "error",
          "ename": "SyntaxError",
          "evalue": "invalid syntax (<ipython-input-4-10c66231acbb>, line 1)",
          "traceback": [
            "\u001b[0;36m  File \u001b[0;32m\"<ipython-input-4-10c66231acbb>\"\u001b[0;36m, line \u001b[0;32m1\u001b[0m\n\u001b[0;31m    def = 10\u001b[0m\n\u001b[0m        ^\u001b[0m\n\u001b[0;31mSyntaxError\u001b[0m\u001b[0;31m:\u001b[0m invalid syntax\n"
          ]
        }
      ]
    },
    {
      "cell_type": "code",
      "source": [
        "print(\"Hello World\")"
      ],
      "metadata": {
        "colab": {
          "base_uri": "https://localhost:8080/"
        },
        "id": "U90NikNvykeo",
        "outputId": "1feaaa9a-6031-47df-c038-ed0a6772b239"
      },
      "execution_count": null,
      "outputs": [
        {
          "output_type": "stream",
          "name": "stdout",
          "text": [
            "Hello World\n"
          ]
        }
      ]
    },
    {
      "cell_type": "code",
      "source": [
        "print('Hello World')"
      ],
      "metadata": {
        "colab": {
          "base_uri": "https://localhost:8080/"
        },
        "id": "_Aqgy_iD19k5",
        "outputId": "86438a1e-9256-4b66-e934-47512597721d"
      },
      "execution_count": null,
      "outputs": [
        {
          "output_type": "stream",
          "name": "stdout",
          "text": [
            "Hello World\n"
          ]
        }
      ]
    },
    {
      "cell_type": "code",
      "source": [
        "a = 10\n",
        "b = 20\n",
        "print(\"Addition\",a+b)\n",
        "print(\"Subtraction\", a-b)\n",
        "print(\"Multiplication\", a*b)\n",
        "print(\"Division\", a/b)\n",
        "print(\"Modulus\", a%b)\n",
        "print(\"Floor Division\", a//b)\n",
        "print(\"Exponent\", a**b)\n",
        "\n"
      ],
      "metadata": {
        "colab": {
          "base_uri": "https://localhost:8080/"
        },
        "id": "4tVl_Mp2zUxk",
        "outputId": "6dc8ff91-d11d-4efa-c6b1-9ce9785c8003"
      },
      "execution_count": null,
      "outputs": [
        {
          "output_type": "stream",
          "name": "stdout",
          "text": [
            "Addition 30\n",
            "Subtraction -10\n",
            "Multiplication 200\n",
            "Division 0.5\n",
            "Modulus 10\n",
            "Floor Division 0\n",
            "Exponent 100000000000000000000\n"
          ]
        }
      ]
    },
    {
      "cell_type": "markdown",
      "source": [
        "**Data Type**\n",
        "Text Type : str \"\",''\n",
        "\n",
        "Numeric Type : int(1,2,3,4....), float(2.3,4.4,6.5), complex(5j,6j)\n",
        "\n",
        "Sequence Type : List, Tuple and Range\n",
        "\n",
        "Mapping Type : Dict\n",
        "\n",
        "Set Types : set, frozenset\n",
        "\n",
        "Boolean : bool\n",
        "\n",
        "Binary Types : bytes , bytearray, memoryview\n",
        "\n",
        "None Type : Nonetype\n"
      ],
      "metadata": {
        "id": "O07JMRpD1CZv"
      }
    },
    {
      "cell_type": "code",
      "source": [
        "a = 10\n",
        "print(a)\n",
        "print(type(a))"
      ],
      "metadata": {
        "colab": {
          "base_uri": "https://localhost:8080/"
        },
        "id": "000bR2TRz2Kt",
        "outputId": "015f7fc5-e9f8-4fdd-a496-06b5053380b7"
      },
      "execution_count": null,
      "outputs": [
        {
          "output_type": "stream",
          "name": "stdout",
          "text": [
            "10\n",
            "<class 'int'>\n"
          ]
        }
      ]
    },
    {
      "cell_type": "code",
      "source": [
        "b = 20.5\n",
        "print(b)\n",
        "type(b)"
      ],
      "metadata": {
        "colab": {
          "base_uri": "https://localhost:8080/"
        },
        "id": "7QY8Uytm3QAv",
        "outputId": "195b89e6-9bab-42e0-93e1-1894271492c8"
      },
      "execution_count": null,
      "outputs": [
        {
          "output_type": "stream",
          "name": "stdout",
          "text": [
            "20.5\n"
          ]
        },
        {
          "output_type": "execute_result",
          "data": {
            "text/plain": [
              "float"
            ]
          },
          "metadata": {},
          "execution_count": 13
        }
      ]
    },
    {
      "cell_type": "code",
      "source": [
        "c = 5j\n",
        "print(c)\n",
        "type(c)"
      ],
      "metadata": {
        "colab": {
          "base_uri": "https://localhost:8080/"
        },
        "id": "fZnOXllw3dQR",
        "outputId": "ce7db7e2-d895-46d5-f54b-6a3df0704da2"
      },
      "execution_count": null,
      "outputs": [
        {
          "output_type": "stream",
          "name": "stdout",
          "text": [
            "5j\n"
          ]
        },
        {
          "output_type": "execute_result",
          "data": {
            "text/plain": [
              "complex"
            ]
          },
          "metadata": {},
          "execution_count": 14
        }
      ]
    },
    {
      "cell_type": "code",
      "source": [
        "d = True\n",
        "print(d)\n",
        "type(d)\n"
      ],
      "metadata": {
        "colab": {
          "base_uri": "https://localhost:8080/"
        },
        "id": "WxMge6GQ3sXO",
        "outputId": "96239b0a-f543-4ba0-e014-ff39d201f212"
      },
      "execution_count": null,
      "outputs": [
        {
          "output_type": "stream",
          "name": "stdout",
          "text": [
            "True\n"
          ]
        },
        {
          "output_type": "execute_result",
          "data": {
            "text/plain": [
              "bool"
            ]
          },
          "metadata": {},
          "execution_count": 20
        }
      ]
    },
    {
      "cell_type": "code",
      "source": [],
      "metadata": {
        "id": "yxlXxPNY3_mU"
      },
      "execution_count": null,
      "outputs": []
    }
  ]
}