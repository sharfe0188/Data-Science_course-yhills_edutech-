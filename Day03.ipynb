{
  "nbformat": 4,
  "nbformat_minor": 0,
  "metadata": {
    "colab": {
      "provenance": [],
      "toc_visible": true
    },
    "kernelspec": {
      "name": "python3",
      "display_name": "Python 3"
    },
    "language_info": {
      "name": "python"
    }
  },
  "cells": [
    {
      "cell_type": "code",
      "execution_count": null,
      "metadata": {
        "id": "mx7UOiI1_l-p"
      },
      "outputs": [],
      "source": []
    },
    {
      "cell_type": "markdown",
      "source": [
        "**Lis,Tuple,Set and **Dictionary** **"
      ],
      "metadata": {
        "id": "-2_cPlTU2JFx"
      }
    },
    {
      "cell_type": "markdown",
      "source": [
        "# New Section"
      ],
      "metadata": {
        "id": "NK2IYfuxOoLE"
      }
    },
    {
      "cell_type": "markdown",
      "source": [
        "**List**\n",
        "lists are used to store multiple item in a single variable\n",
        "\n",
        "[] are used to define a list\n",
        "\n",
        "It is ordered.\n",
        "\n",
        "It is changeable\n",
        "\n",
        "and It also allows duplicate values.\n",
        "\n"
      ],
      "metadata": {
        "id": "3H9mKSuX_rtp"
      }
    },
    {
      "cell_type": "code",
      "source": [
        "fruit = ['apple','mango','banana',12,1.4,22j,True,'banana']\n",
        "print(fruit)\n",
        "type(fruit)"
      ],
      "metadata": {
        "colab": {
          "base_uri": "https://localhost:8080/"
        },
        "id": "-z55lHflAID6",
        "outputId": "670919f3-8936-4098-f53d-d1a2eb152cbe"
      },
      "execution_count": null,
      "outputs": [
        {
          "output_type": "stream",
          "name": "stdout",
          "text": [
            "['apple', 'mango', 'banana', 12, 1.4, 22j, True, 'banana']\n"
          ]
        },
        {
          "output_type": "execute_result",
          "data": {
            "text/plain": [
              "list"
            ]
          },
          "metadata": {},
          "execution_count": 2
        }
      ]
    },
    {
      "cell_type": "code",
      "source": [
        "print(fruit[1])"
      ],
      "metadata": {
        "colab": {
          "base_uri": "https://localhost:8080/"
        },
        "id": "rwxrMTixAfQD",
        "outputId": "1e484561-6469-4c4d-855f-0ace4691de6f"
      },
      "execution_count": null,
      "outputs": [
        {
          "output_type": "stream",
          "name": "stdout",
          "text": [
            "mango\n"
          ]
        }
      ]
    },
    {
      "cell_type": "code",
      "source": [
        "print(fruit[5])"
      ],
      "metadata": {
        "colab": {
          "base_uri": "https://localhost:8080/"
        },
        "id": "bjyOqIn-Bm4d",
        "outputId": "67acd448-b75b-44d2-c024-d4b1be29f7d6"
      },
      "execution_count": null,
      "outputs": [
        {
          "output_type": "stream",
          "name": "stdout",
          "text": [
            "22j\n"
          ]
        }
      ]
    },
    {
      "cell_type": "code",
      "source": [
        "print(fruit[-3])"
      ],
      "metadata": {
        "colab": {
          "base_uri": "https://localhost:8080/"
        },
        "id": "eFtRJpcJBqEx",
        "outputId": "7b1afca8-3ea5-4294-cdeb-3dc7bcb9a3a6"
      },
      "execution_count": null,
      "outputs": [
        {
          "output_type": "stream",
          "name": "stdout",
          "text": [
            "22j\n"
          ]
        }
      ]
    },
    {
      "cell_type": "code",
      "source": [
        "#print(varname[start:stop:jump])\n",
        "print(fruit[1:6])"
      ],
      "metadata": {
        "colab": {
          "base_uri": "https://localhost:8080/"
        },
        "id": "RdZWuBehCQnl",
        "outputId": "e66f921a-2f0f-4df5-867d-64f5b2dfe249"
      },
      "execution_count": null,
      "outputs": [
        {
          "output_type": "stream",
          "name": "stdout",
          "text": [
            "['mango', 'banana', 12, 1.4, 22j]\n"
          ]
        }
      ]
    },
    {
      "cell_type": "code",
      "source": [
        "print(fruit[1:6:2])"
      ],
      "metadata": {
        "colab": {
          "base_uri": "https://localhost:8080/"
        },
        "id": "GTDwiEs_C6dX",
        "outputId": "bd1da5a3-6662-4b2f-fd18-263210f871e9"
      },
      "execution_count": null,
      "outputs": [
        {
          "output_type": "stream",
          "name": "stdout",
          "text": [
            "['mango', 12, 22j]\n"
          ]
        }
      ]
    },
    {
      "cell_type": "code",
      "source": [
        "print(fruit[-6:-1])"
      ],
      "metadata": {
        "colab": {
          "base_uri": "https://localhost:8080/"
        },
        "id": "W8Bsd3zpDkGC",
        "outputId": "d4ea1d4b-19a2-407d-d034-a4fa225ed703"
      },
      "execution_count": null,
      "outputs": [
        {
          "output_type": "stream",
          "name": "stdout",
          "text": [
            "['banana', 12, 1.4, 22j, True]\n"
          ]
        }
      ]
    },
    {
      "cell_type": "code",
      "source": [
        "print(fruit[-6:])"
      ],
      "metadata": {
        "colab": {
          "base_uri": "https://localhost:8080/"
        },
        "id": "scjyTd8GD91S",
        "outputId": "c812ba9c-00cb-428d-d78d-696cc5b27270"
      },
      "execution_count": null,
      "outputs": [
        {
          "output_type": "stream",
          "name": "stdout",
          "text": [
            "['banana', 12, 1.4, 22j, True, 'banana']\n"
          ]
        }
      ]
    },
    {
      "cell_type": "code",
      "source": [
        "#It replaces the existed item\n",
        "fruit = ['apple','mango','banana',12,1.4,22j,True,'banana']\n",
        "fruit[2] = 'kiwi'\n",
        "print(fruit)"
      ],
      "metadata": {
        "colab": {
          "base_uri": "https://localhost:8080/"
        },
        "id": "hvmhC82NEZpa",
        "outputId": "35a8cd06-27f2-49f8-c633-99b8e072dd3f"
      },
      "execution_count": null,
      "outputs": [
        {
          "output_type": "stream",
          "name": "stdout",
          "text": [
            "['apple', 'mango', 'kiwi', 12, 1.4, 22j, True, 'banana']\n"
          ]
        }
      ]
    },
    {
      "cell_type": "code",
      "source": [
        "fruit.insert(2,'orange')\n",
        "print(fruit)"
      ],
      "metadata": {
        "colab": {
          "base_uri": "https://localhost:8080/"
        },
        "id": "Sm1l2LPuFBHV",
        "outputId": "31418572-be91-4d78-b9cd-cf1bda8c52dd"
      },
      "execution_count": null,
      "outputs": [
        {
          "output_type": "stream",
          "name": "stdout",
          "text": [
            "['apple', 'mango', 'orange', 'kiwi', 12, 1.4, 22j, True, 'banana']\n"
          ]
        }
      ]
    },
    {
      "cell_type": "code",
      "source": [
        "fruit.append('papaya')\n",
        "print(fruit)"
      ],
      "metadata": {
        "colab": {
          "base_uri": "https://localhost:8080/"
        },
        "id": "NZtQLvA9Fpdn",
        "outputId": "930717b9-60d6-4746-e36a-d604a9d21657"
      },
      "execution_count": null,
      "outputs": [
        {
          "output_type": "stream",
          "name": "stdout",
          "text": [
            "['apple', 'mango', 'orange', 'kiwi', 12, 1.4, 22j, True, 'banana', 'papaya']\n"
          ]
        }
      ]
    },
    {
      "cell_type": "code",
      "source": [
        "fruit.remove('orange')\n",
        "print(fruit)"
      ],
      "metadata": {
        "colab": {
          "base_uri": "https://localhost:8080/"
        },
        "id": "JsgNuPOlF8AL",
        "outputId": "7b5cc2eb-70cc-4a10-c8bf-89a04706e0dd"
      },
      "execution_count": null,
      "outputs": [
        {
          "output_type": "stream",
          "name": "stdout",
          "text": [
            "['apple', 'mango', 'kiwi', 12, 1.4, 22j, True, 'banana', 'papaya']\n"
          ]
        }
      ]
    },
    {
      "cell_type": "code",
      "source": [
        "fruit.pop(2)\n",
        "print(fruit)"
      ],
      "metadata": {
        "colab": {
          "base_uri": "https://localhost:8080/"
        },
        "id": "c_Rd9LwSGZek",
        "outputId": "2e9b69b6-2913-44b4-9461-4fe8e04606f9"
      },
      "execution_count": null,
      "outputs": [
        {
          "output_type": "stream",
          "name": "stdout",
          "text": [
            "['apple', 'mango', 12, 1.4, 22j, True, 'banana', 'papaya']\n"
          ]
        }
      ]
    },
    {
      "cell_type": "code",
      "source": [
        "fruit.clear()\n",
        "print(fruit)"
      ],
      "metadata": {
        "colab": {
          "base_uri": "https://localhost:8080/"
        },
        "id": "x1_A1WXTGpUM",
        "outputId": "cf3d6094-7510-458f-df24-6d77e71adcba"
      },
      "execution_count": null,
      "outputs": [
        {
          "output_type": "stream",
          "name": "stdout",
          "text": [
            "[]\n"
          ]
        }
      ]
    },
    {
      "cell_type": "code",
      "source": [
        "del fruit\n",
        "print(fruit)"
      ],
      "metadata": {
        "colab": {
          "base_uri": "https://localhost:8080/",
          "height": 164
        },
        "id": "Of5H_gQjGx8X",
        "outputId": "34678862-1f3d-4276-bdbd-bbb479fc7405"
      },
      "execution_count": null,
      "outputs": [
        {
          "output_type": "error",
          "ename": "NameError",
          "evalue": "name 'fruit' is not defined",
          "traceback": [
            "\u001b[0;31m---------------------------------------------------------------------------\u001b[0m",
            "\u001b[0;31mNameError\u001b[0m                                 Traceback (most recent call last)",
            "\u001b[0;32m<ipython-input-19-13884ae962ee>\u001b[0m in \u001b[0;36m<cell line: 2>\u001b[0;34m()\u001b[0m\n\u001b[1;32m      1\u001b[0m \u001b[0;32mdel\u001b[0m \u001b[0mfruit\u001b[0m\u001b[0;34m\u001b[0m\u001b[0;34m\u001b[0m\u001b[0m\n\u001b[0;32m----> 2\u001b[0;31m \u001b[0mprint\u001b[0m\u001b[0;34m(\u001b[0m\u001b[0mfruit\u001b[0m\u001b[0;34m)\u001b[0m\u001b[0;34m\u001b[0m\u001b[0;34m\u001b[0m\u001b[0m\n\u001b[0m",
            "\u001b[0;31mNameError\u001b[0m: name 'fruit' is not defined"
          ]
        }
      ]
    },
    {
      "cell_type": "markdown",
      "source": [
        "**Tuples**\n",
        "Tuples are used to store multiple items in a single variable.\n",
        "\n",
        "()are used to define a tuple.\n",
        "\n",
        "It is immutable(Unchangeable).\n",
        "\n",
        "It is ordered\n",
        "\n",
        "It allows duplicate values.\n"
      ],
      "metadata": {
        "id": "TcNgnYCpHp03"
      }
    },
    {
      "cell_type": "code",
      "source": [
        "animals = ('dog','cat','monkey',12,33.33,22j,True,'dog')\n",
        "print(animals)\n",
        "type(animals)"
      ],
      "metadata": {
        "colab": {
          "base_uri": "https://localhost:8080/"
        },
        "id": "M_xk5GrFG94L",
        "outputId": "15190adf-8341-4832-ba53-04a49802c820"
      },
      "execution_count": null,
      "outputs": [
        {
          "output_type": "stream",
          "name": "stdout",
          "text": [
            "('dog', 'cat', 'monkey', 12, 33.33, 22j, True, 'dog')\n"
          ]
        },
        {
          "output_type": "execute_result",
          "data": {
            "text/plain": [
              "tuple"
            ]
          },
          "metadata": {},
          "execution_count": 20
        }
      ]
    },
    {
      "cell_type": "code",
      "source": [
        "print(animals[2])\n",
        "#Task\n",
        "#accessing the items by using positive and negative indexing\n",
        "#slicing using positive and negative indexing"
      ],
      "metadata": {
        "colab": {
          "base_uri": "https://localhost:8080/"
        },
        "id": "D7OqgedOIX4a",
        "outputId": "7fd2142b-ed8e-4e03-a16e-c7cb15dd3d9e"
      },
      "execution_count": null,
      "outputs": [
        {
          "output_type": "stream",
          "name": "stdout",
          "text": [
            "monkey\n"
          ]
        }
      ]
    },
    {
      "cell_type": "code",
      "source": [
        "animals = ('dog','cat','monkey',12,33.33,22j,True,'dog')\n",
        "y = list(animals) #type casting tuple to list\n",
        "y[1]= 'lion'\n",
        "animals = tuple(y)  #type casting list to tuple\n",
        "print(animals)"
      ],
      "metadata": {
        "colab": {
          "base_uri": "https://localhost:8080/"
        },
        "id": "K5FPgYjvIzYr",
        "outputId": "05a4b1b9-3688-454c-b7d1-caaa6deda648"
      },
      "execution_count": null,
      "outputs": [
        {
          "output_type": "stream",
          "name": "stdout",
          "text": [
            "('dog', 'lion', 'monkey', 12, 33.33, 22j, True, 'dog')\n"
          ]
        }
      ]
    },
    {
      "cell_type": "code",
      "source": [
        "animals = ('dog','cat','monkey',12,33.33,22j,True,'dog')\n",
        "y = list(animals) #type casting tuple to list\n",
        "y.insert(3,'horse')\n",
        "animals = tuple(y)  #type casting list to tuple\n",
        "print(animals)"
      ],
      "metadata": {
        "colab": {
          "base_uri": "https://localhost:8080/"
        },
        "id": "BEviKbcTKvir",
        "outputId": "7c2918dd-9def-461c-8298-baa96fb46c10"
      },
      "execution_count": null,
      "outputs": [
        {
          "output_type": "stream",
          "name": "stdout",
          "text": [
            "('dog', 'cat', 'monkey', 'horse', 12, 33.33, 22j, True, 'dog')\n"
          ]
        }
      ]
    },
    {
      "cell_type": "code",
      "source": [
        "animals = ('dog','cat','monkey',12,33.33,22j,True,'dog')\n",
        "y = list(animals) #type casting tuple to list\n",
        "y.append('giraffe')\n",
        "animals = tuple(y)  #type casting list to tuple\n",
        "print(animals)"
      ],
      "metadata": {
        "colab": {
          "base_uri": "https://localhost:8080/"
        },
        "id": "8MqTiXr7K_o1",
        "outputId": "b8d5f1e1-d478-44c1-a8fe-65f44f8db849"
      },
      "execution_count": null,
      "outputs": [
        {
          "output_type": "stream",
          "name": "stdout",
          "text": [
            "('dog', 'cat', 'monkey', 12, 33.33, 22j, True, 'dog', 'giraffe')\n"
          ]
        }
      ]
    },
    {
      "cell_type": "code",
      "source": [
        "y = list(animals) #type casting tuple to list\n",
        "y.remove('monkey')\n",
        "animals = tuple(y)  #type casting list to tuple\n",
        "print(animals)"
      ],
      "metadata": {
        "colab": {
          "base_uri": "https://localhost:8080/"
        },
        "id": "hjNYk33_LJu-",
        "outputId": "6be87d14-fc61-4b7a-cf66-affc82caf844"
      },
      "execution_count": null,
      "outputs": [
        {
          "output_type": "stream",
          "name": "stdout",
          "text": [
            "('dog', 'cat', 12, 33.33, 22j, True, 'dog', 'giraffe')\n"
          ]
        }
      ]
    },
    {
      "cell_type": "code",
      "source": [
        "y = list(animals) #type casting tuple to list\n",
        "y.pop(2)\n",
        "animals = tuple(y)  #type casting list to tuple\n",
        "print(animals)"
      ],
      "metadata": {
        "colab": {
          "base_uri": "https://localhost:8080/"
        },
        "id": "xv7YN_-cLX3L",
        "outputId": "9c888f85-2300-44e5-9d3b-59112546954b"
      },
      "execution_count": null,
      "outputs": [
        {
          "output_type": "stream",
          "name": "stdout",
          "text": [
            "('dog', 'cat', 33.33, 22j, True, 'dog', 'giraffe')\n"
          ]
        }
      ]
    },
    {
      "cell_type": "markdown",
      "source": [
        "**Set**\n",
        "\n",
        "It is used store multiple items in a single variable\n",
        "\n",
        "It is unordered.\n",
        "\n",
        "It doesn't allow duplicate values\n",
        "\n",
        "{} are used to define a set."
      ],
      "metadata": {
        "id": "koEdUNXvMWeb"
      }
    },
    {
      "cell_type": "code",
      "source": [
        "var = {'apple','mango','banana',12,1.4,22j,True,'banana'}\n",
        "print(var)"
      ],
      "metadata": {
        "colab": {
          "base_uri": "https://localhost:8080/"
        },
        "id": "htbizKrXLmiA",
        "outputId": "fba8c1ef-ff28-4bb9-a222-baad30e8168f"
      },
      "execution_count": null,
      "outputs": [
        {
          "output_type": "stream",
          "name": "stdout",
          "text": [
            "{'mango', 22j, 1.4, True, 'apple', 'banana', 12}\n"
          ]
        }
      ]
    },
    {
      "cell_type": "code",
      "source": [
        "for i in var:\n",
        "  print(i)"
      ],
      "metadata": {
        "colab": {
          "base_uri": "https://localhost:8080/"
        },
        "id": "tpyvb4OZNB_z",
        "outputId": "0b21f251-249a-467b-8055-8d7b036d483b"
      },
      "execution_count": null,
      "outputs": [
        {
          "output_type": "stream",
          "name": "stdout",
          "text": [
            "mango\n",
            "22j\n",
            "1.4\n",
            "True\n",
            "apple\n",
            "banana\n",
            "12\n"
          ]
        }
      ]
    },
    {
      "cell_type": "code",
      "source": [
        "var.add(\"kiwi\")\n",
        "print(var)"
      ],
      "metadata": {
        "colab": {
          "base_uri": "https://localhost:8080/"
        },
        "id": "qP6HPmFwONxF",
        "outputId": "79eb9897-6403-4937-e2de-b4dc8bdd99fe"
      },
      "execution_count": null,
      "outputs": [
        {
          "output_type": "stream",
          "name": "stdout",
          "text": [
            "{'mango', 22j, 1.4, True, 'apple', 'kiwi', 'banana', 12}\n"
          ]
        }
      ]
    },
    {
      "cell_type": "code",
      "source": [
        "var1 = {'horse','dog','cat'}\n",
        "var1.update(var)\n",
        "print(var1)\n",
        "\n",
        "#task\n",
        "#try to add a list into set and a tuple into the set."
      ],
      "metadata": {
        "colab": {
          "base_uri": "https://localhost:8080/"
        },
        "id": "7gJHuItIPvRe",
        "outputId": "c147edb5-e523-445b-ecc8-116bd90f1a05"
      },
      "execution_count": null,
      "outputs": [
        {
          "output_type": "stream",
          "name": "stdout",
          "text": [
            "{'mango', 22j, 1.4, True, 'kiwi', 'banana', 12, 'cat', 'apple', 'dog', 'horse'}\n"
          ]
        }
      ]
    },
    {
      "cell_type": "code",
      "source": [
        "var.remove('banana')\n",
        "print(var)"
      ],
      "metadata": {
        "colab": {
          "base_uri": "https://localhost:8080/",
          "height": 164
        },
        "id": "0QUXaUIsQMOH",
        "outputId": "01d7e8a2-28fa-4bd9-a746-8cb0f755a8bc"
      },
      "execution_count": null,
      "outputs": [
        {
          "output_type": "error",
          "ename": "KeyError",
          "evalue": "'banana'",
          "traceback": [
            "\u001b[0;31m---------------------------------------------------------------------------\u001b[0m",
            "\u001b[0;31mKeyError\u001b[0m                                  Traceback (most recent call last)",
            "\u001b[0;32m<ipython-input-41-041bf4e981c6>\u001b[0m in \u001b[0;36m<cell line: 1>\u001b[0;34m()\u001b[0m\n\u001b[0;32m----> 1\u001b[0;31m \u001b[0mvar\u001b[0m\u001b[0;34m.\u001b[0m\u001b[0mremove\u001b[0m\u001b[0;34m(\u001b[0m\u001b[0;34m'banana'\u001b[0m\u001b[0;34m)\u001b[0m\u001b[0;34m\u001b[0m\u001b[0;34m\u001b[0m\u001b[0m\n\u001b[0m\u001b[1;32m      2\u001b[0m \u001b[0mprint\u001b[0m\u001b[0;34m(\u001b[0m\u001b[0mvar\u001b[0m\u001b[0;34m)\u001b[0m\u001b[0;34m\u001b[0m\u001b[0;34m\u001b[0m\u001b[0m\n",
            "\u001b[0;31mKeyError\u001b[0m: 'banana'"
          ]
        }
      ]
    },
    {
      "cell_type": "code",
      "source": [
        "var.discard('kiwi')\n",
        "print(var)"
      ],
      "metadata": {
        "colab": {
          "base_uri": "https://localhost:8080/"
        },
        "id": "JvINJdZ_RMa_",
        "outputId": "80652b7b-01ce-45d6-dd5b-2839c73dc86d"
      },
      "execution_count": null,
      "outputs": [
        {
          "output_type": "stream",
          "name": "stdout",
          "text": [
            "{'mango', 22j, 1.4, True, 12, 'cat', 'apple', 'dog', 'horse'}\n"
          ]
        }
      ]
    },
    {
      "cell_type": "code",
      "source": [
        "var.pop()\n",
        "print(var)"
      ],
      "metadata": {
        "colab": {
          "base_uri": "https://localhost:8080/"
        },
        "id": "WkMLibrDRXQ4",
        "outputId": "c21b7d79-773c-48c4-b6bf-afa0cb610cc7"
      },
      "execution_count": null,
      "outputs": [
        {
          "output_type": "stream",
          "name": "stdout",
          "text": [
            "{22j, 1.4, True, 12, 'cat', 'apple', 'dog', 'horse'}\n"
          ]
        }
      ]
    },
    {
      "cell_type": "code",
      "source": [
        "var.clear()\n",
        "print(var)"
      ],
      "metadata": {
        "colab": {
          "base_uri": "https://localhost:8080/"
        },
        "id": "fvy2wWj9SU-x",
        "outputId": "3df7058c-1ba2-46e6-e617-b0f787cfd792"
      },
      "execution_count": null,
      "outputs": [
        {
          "output_type": "stream",
          "name": "stdout",
          "text": [
            "set()\n"
          ]
        }
      ]
    },
    {
      "cell_type": "code",
      "source": [
        "del var"
      ],
      "metadata": {
        "id": "a-jK87rRSge0"
      },
      "execution_count": null,
      "outputs": []
    },
    {
      "cell_type": "markdown",
      "source": [
        "**Dictionary**\n",
        "It is used to store item in a key value pair.\n",
        "\n",
        "It is ordered.\n",
        "\n",
        "It is changeable(mutable).\n",
        "\n",
        "It doesn't allow duplicate values.\n",
        "\n",
        "{} to define a dictionary"
      ],
      "metadata": {
        "id": "-v_hySoETLY2"
      }
    },
    {
      "cell_type": "code",
      "source": [
        "car = {\n",
        "    \"brand\":\"kia\",\n",
        "    'model':\"Sonet\",\n",
        "    'year':2024,\n",
        "    'color':'Black'\n",
        "}\n",
        "print(car)"
      ],
      "metadata": {
        "colab": {
          "base_uri": "https://localhost:8080/"
        },
        "id": "G-nA395YSmP6",
        "outputId": "c5d5284b-3227-4034-bbd6-f8c1ad14c739"
      },
      "execution_count": null,
      "outputs": [
        {
          "output_type": "stream",
          "name": "stdout",
          "text": [
            "{'brand': 'kia', 'model': 'Sonet', 'year': 2024, 'color': 'Black'}\n"
          ]
        }
      ]
    },
    {
      "cell_type": "code",
      "source": [
        "print(car['model'])"
      ],
      "metadata": {
        "colab": {
          "base_uri": "https://localhost:8080/"
        },
        "id": "1jsBDVnSULxt",
        "outputId": "f54d3a61-204b-4724-8e94-c676f3b592e5"
      },
      "execution_count": null,
      "outputs": [
        {
          "output_type": "stream",
          "name": "stdout",
          "text": [
            "Sonet\n"
          ]
        }
      ]
    },
    {
      "cell_type": "code",
      "source": [
        "car.keys()"
      ],
      "metadata": {
        "colab": {
          "base_uri": "https://localhost:8080/"
        },
        "id": "hAiuH0A7U5uY",
        "outputId": "06726e8d-180e-44f0-de0a-d6cad334f140"
      },
      "execution_count": null,
      "outputs": [
        {
          "output_type": "execute_result",
          "data": {
            "text/plain": [
              "dict_keys(['brand', 'model', 'year', 'color'])"
            ]
          },
          "metadata": {},
          "execution_count": 3
        }
      ]
    },
    {
      "cell_type": "code",
      "source": [
        "car.values()"
      ],
      "metadata": {
        "colab": {
          "base_uri": "https://localhost:8080/"
        },
        "id": "0-lHoGm4VTCq",
        "outputId": "fbaa8c0a-7a14-42a4-dd85-814cc92b47e2"
      },
      "execution_count": null,
      "outputs": [
        {
          "output_type": "execute_result",
          "data": {
            "text/plain": [
              "dict_values(['kia', 'Sonet', 2024, 'Black'])"
            ]
          },
          "metadata": {},
          "execution_count": 4
        }
      ]
    },
    {
      "cell_type": "code",
      "source": [
        "car['color'] = 'White'\n",
        "print(car)\n",
        "#Task\n",
        "#Change the year"
      ],
      "metadata": {
        "colab": {
          "base_uri": "https://localhost:8080/"
        },
        "id": "ACy8-UaVVbtm",
        "outputId": "a2346a81-13c6-4bf6-ec67-946ccf44d44c"
      },
      "execution_count": null,
      "outputs": [
        {
          "output_type": "stream",
          "name": "stdout",
          "text": [
            "{'brand': 'kia', 'model': 'Sonet', 'year': 2024, 'color': 'White'}\n"
          ]
        }
      ]
    },
    {
      "cell_type": "code",
      "source": [
        "car.items()"
      ],
      "metadata": {
        "colab": {
          "base_uri": "https://localhost:8080/"
        },
        "id": "RO0MNYuQVvfV",
        "outputId": "30a76f64-51f2-49bc-e816-78aec9c536fa"
      },
      "execution_count": null,
      "outputs": [
        {
          "output_type": "execute_result",
          "data": {
            "text/plain": [
              "dict_items([('brand', 'kia'), ('model', 'Sonet'), ('year', 2024), ('color', 'White')])"
            ]
          },
          "metadata": {},
          "execution_count": 6
        }
      ]
    },
    {
      "cell_type": "code",
      "source": [
        "car.update({'model':'Seltos'})\n",
        "print(car)"
      ],
      "metadata": {
        "colab": {
          "base_uri": "https://localhost:8080/"
        },
        "id": "v-ySfSa-WBnP",
        "outputId": "96bbcc27-77be-4ac8-a2b2-170d6fe42c13"
      },
      "execution_count": null,
      "outputs": [
        {
          "output_type": "stream",
          "name": "stdout",
          "text": [
            "{'brand': 'kia', 'model': 'Seltos', 'year': 2024, 'color': 'White'}\n"
          ]
        }
      ]
    },
    {
      "cell_type": "code",
      "source": [
        "car['type'] = 'petrol'\n",
        "print(car)"
      ],
      "metadata": {
        "colab": {
          "base_uri": "https://localhost:8080/"
        },
        "id": "6BfVZKjOWZ2H",
        "outputId": "75791a1a-82d8-4d0c-dab7-9b050985d295"
      },
      "execution_count": null,
      "outputs": [
        {
          "output_type": "stream",
          "name": "stdout",
          "text": [
            "{'brand': 'kia', 'model': 'Seltos', 'year': 2024, 'color': 'White', 'type': 'petrol'}\n"
          ]
        }
      ]
    },
    {
      "cell_type": "code",
      "source": [
        "car.pop('year')\n",
        "print(car)"
      ],
      "metadata": {
        "id": "cFY0W4aDXBnc",
        "colab": {
          "base_uri": "https://localhost:8080/"
        },
        "outputId": "b812bfd3-4811-4d45-baf9-281f30f2e50f"
      },
      "execution_count": null,
      "outputs": [
        {
          "output_type": "stream",
          "name": "stdout",
          "text": [
            "{'brand': 'kia', 'model': 'Seltos', 'color': 'White', 'type': 'petrol'}\n"
          ]
        }
      ]
    },
    {
      "cell_type": "code",
      "source": [
        "#Pop item removes last inserted item\n",
        "car.popitem()\n",
        "print(car)"
      ],
      "metadata": {
        "colab": {
          "base_uri": "https://localhost:8080/"
        },
        "id": "CO8QcXB0J_xs",
        "outputId": "c8cf05c1-709d-4d66-8cdc-f850eb852399"
      },
      "execution_count": null,
      "outputs": [
        {
          "output_type": "stream",
          "name": "stdout",
          "text": [
            "{'brand': 'kia', 'model': 'Seltos', 'color': 'White'}\n"
          ]
        }
      ]
    },
    {
      "cell_type": "code",
      "source": [
        "car.clear()\n",
        "print(car)"
      ],
      "metadata": {
        "colab": {
          "base_uri": "https://localhost:8080/"
        },
        "id": "jpm9YR-UKLZ0",
        "outputId": "bba833eb-9e42-42fb-da95-c80deef645ab"
      },
      "execution_count": null,
      "outputs": [
        {
          "output_type": "stream",
          "name": "stdout",
          "text": [
            "{}\n"
          ]
        }
      ]
    },
    {
      "cell_type": "code",
      "source": [
        "del car\n",
        "print(car)"
      ],
      "metadata": {
        "colab": {
          "base_uri": "https://localhost:8080/",
          "height": 164
        },
        "id": "MvOwl2F3KY1d",
        "outputId": "276da702-e8ff-4820-cef3-ef737c6c26b1"
      },
      "execution_count": null,
      "outputs": [
        {
          "output_type": "error",
          "ename": "NameError",
          "evalue": "name 'car' is not defined",
          "traceback": [
            "\u001b[0;31m---------------------------------------------------------------------------\u001b[0m",
            "\u001b[0;31mNameError\u001b[0m                                 Traceback (most recent call last)",
            "\u001b[0;32m<ipython-input-13-3e96a2fb7a5b>\u001b[0m in \u001b[0;36m<cell line: 2>\u001b[0;34m()\u001b[0m\n\u001b[1;32m      1\u001b[0m \u001b[0;32mdel\u001b[0m \u001b[0mcar\u001b[0m\u001b[0;34m\u001b[0m\u001b[0;34m\u001b[0m\u001b[0m\n\u001b[0;32m----> 2\u001b[0;31m \u001b[0mprint\u001b[0m\u001b[0;34m(\u001b[0m\u001b[0mcar\u001b[0m\u001b[0;34m)\u001b[0m\u001b[0;34m\u001b[0m\u001b[0;34m\u001b[0m\u001b[0m\n\u001b[0m",
            "\u001b[0;31mNameError\u001b[0m: name 'car' is not defined"
          ]
        }
      ]
    },
    {
      "cell_type": "markdown",
      "source": [
        "**File Handling**\n",
        "reading, creating,updating and deleting\n",
        "\n",
        "'r' : read\n",
        "\n",
        "'a' : append\n",
        "\n",
        "'w' : write\n",
        "\n",
        "'x' : create"
      ],
      "metadata": {
        "id": "Bw38IOGyKlhF"
      }
    },
    {
      "cell_type": "code",
      "source": [
        "f = open('/content/DWSample1-TXT.txt')"
      ],
      "metadata": {
        "id": "hoh3XkvgKeew"
      },
      "execution_count": null,
      "outputs": []
    },
    {
      "cell_type": "code",
      "source": [],
      "metadata": {
        "id": "e4XAt2qhMRng"
      },
      "execution_count": null,
      "outputs": []
    }
  ]
}