{
  "nbformat": 4,
  "nbformat_minor": 0,
  "metadata": {
    "colab": {
      "provenance": []
    },
    "kernelspec": {
      "name": "python3",
      "display_name": "Python 3"
    },
    "language_info": {
      "name": "python"
    }
  },
  "cells": [
    {
      "cell_type": "markdown",
      "source": [
        "# **Statistics**"
      ],
      "metadata": {
        "id": "eToL0bhr8ova"
      }
    },
    {
      "cell_type": "markdown",
      "source": [
        "**Statistics**\n",
        "Statistics is a branch of mathematics that deals with collecting, analyzing , interpreting, presenting and organizing the data."
      ],
      "metadata": {
        "id": "Bh58jv7WtN5D"
      }
    },
    {
      "cell_type": "markdown",
      "source": [
        "**Data**\n",
        "Data is the information that is collected through different sources.It can be qualitative and quantative.\n",
        "1. Qualitative data(Categorical Data)\n",
        "    Nominal Data\n",
        "    Ordinal Data\n",
        "2. Quantitative data(Numerical Data)\n",
        "    Discrete Data\n",
        "    Continuous Data"
      ],
      "metadata": {
        "id": "qcl9N393u5UL"
      }
    },
    {
      "cell_type": "markdown",
      "source": [
        "**Mean**: It is the average of the numerical observation which is equals to the sum of observation divided by the number of observations."
      ],
      "metadata": {
        "id": "RwxMmlVKz1bG"
      }
    },
    {
      "cell_type": "code",
      "source": [
        "num = [12,324,546,768,43,65,33,97]\n",
        "mean = sum(num)/len(num)\n",
        "print(mean)"
      ],
      "metadata": {
        "colab": {
          "base_uri": "https://localhost:8080/"
        },
        "id": "GUjTcTWLumxk",
        "outputId": "45bc8e0b-058a-4049-d77e-2a976afa96f9"
      },
      "execution_count": null,
      "outputs": [
        {
          "output_type": "stream",
          "name": "stdout",
          "text": [
            "236.0\n"
          ]
        }
      ]
    },
    {
      "cell_type": "markdown",
      "source": [
        "**Median** Median is the middle value of data when data is in sorted form(Ascending or Descending)."
      ],
      "metadata": {
        "id": "Vdk5Jtxp08yd"
      }
    },
    {
      "cell_type": "code",
      "source": [
        "num = [12,324,546,768,43,65,33,97]\n",
        "num.sort()\n",
        "n = len(num)\n",
        "#Check if n is even or odd\n",
        "if n % 2 == 0:\n",
        "  median = ((num[(n//2)-1]+num[n//2])/2)\n",
        "else :\n",
        "  median = num[n//2]\n",
        "print(median)\n",
        "\n",
        "#((8/2)th term+(8/2+1)th term)/2"
      ],
      "metadata": {
        "colab": {
          "base_uri": "https://localhost:8080/"
        },
        "id": "EFLIgK1Z0i76",
        "outputId": "e7f40847-bfd9-4808-edcb-332b21a4dece"
      },
      "execution_count": null,
      "outputs": [
        {
          "output_type": "stream",
          "name": "stdout",
          "text": [
            "81.0\n"
          ]
        }
      ]
    },
    {
      "cell_type": "code",
      "source": [
        "print(num)\n",
        "162/2"
      ],
      "metadata": {
        "colab": {
          "base_uri": "https://localhost:8080/"
        },
        "id": "wyck8IlO0wID",
        "outputId": "4fe05f0a-1f52-4b11-bd52-efa1ada5776b"
      },
      "execution_count": null,
      "outputs": [
        {
          "output_type": "stream",
          "name": "stdout",
          "text": [
            "[12, 33, 43, 65, 97, 324, 546, 768]\n"
          ]
        }
      ]
    },
    {
      "cell_type": "markdown",
      "source": [
        "**Mode** Most occuring value in a given set of data"
      ],
      "metadata": {
        "id": "rVXhCoKd5YdY"
      }
    },
    {
      "cell_type": "code",
      "source": [
        "\n",
        "import pandas as pd\n",
        "data =  {\n",
        "    'values':[21,34,342,65,23,65,67,45,23,65,21,45,76,65,6,223,877,434]\n",
        "}\n",
        "df = pd.DataFrame(data)\n",
        "mean_value = df['values'].mean()\n",
        "median_value = df['values'].median()\n",
        "mode_value = df['values'].mode()\n",
        "print(\"This is the mean value\",mean_value)\n",
        "print(\"This is the median value\",median_value)\n",
        "print(\"This is the mode value\",mode_value[0])\n"
      ],
      "metadata": {
        "colab": {
          "base_uri": "https://localhost:8080/"
        },
        "id": "RUXhH_U53kmW",
        "outputId": "f78b1c2e-2632-49b2-bdc4-dcd07062651b"
      },
      "execution_count": null,
      "outputs": [
        {
          "output_type": "stream",
          "name": "stdout",
          "text": [
            "This is the mean value 138.72222222222223\n",
            "This is the median value 65.0\n",
            "This is the mode value 65\n"
          ]
        }
      ]
    },
    {
      "cell_type": "markdown",
      "source": [
        "**Inter quertile range**\n",
        "\n",
        "It is a measure of statistical dispersion, or how spread out the data values are , It represents the range withing which the middle 50% of the data point lie.\n",
        "IQR = Q3-Q1\n",
        "\n",
        "below Q1-1.5*IQR or above Q3+1.5*IQR considered as an outlier"
      ],
      "metadata": {
        "id": "8T9TrjwV9jJo"
      }
    },
    {
      "cell_type": "code",
      "source": [
        "import numpy as np\n",
        "weight = [40,45,43,42,47,41,48,46,49,250]\n",
        "q1 = np.percentile(weight,25)\n",
        "q3 = np.percentile(weight,75)\n",
        "iqr = q3-q1\n",
        "print(\"Value Below this is going to be an outlier\",q1-1.5*iqr)\n",
        "print(\"Value above this is going to be an outlier\",q3+1.5*iqr)\n",
        "print(iqr)"
      ],
      "metadata": {
        "colab": {
          "base_uri": "https://localhost:8080/"
        },
        "id": "PpQ5INW76E-f",
        "outputId": "89884d00-12c3-42f6-9791-e2c9f83552ef"
      },
      "execution_count": null,
      "outputs": [
        {
          "output_type": "stream",
          "name": "stdout",
          "text": [
            "Value Below this is going to be an outlier 34.0\n",
            "Value above this is going to be an outlier 56.0\n",
            "5.5\n"
          ]
        }
      ]
    },
    {
      "cell_type": "markdown",
      "source": [
        "**Variance**\n",
        "It is a measure that describes how much a set of data differ from the mean(average) of that set. In simple terms , it tells us how spread out the values are.\n",
        "\n",
        "It is defined as the average of the squared differnce from the mean"
      ],
      "metadata": {
        "id": "ISMrlBccDwUe"
      }
    },
    {
      "cell_type": "code",
      "source": [
        "\n",
        "import pandas as pd\n",
        "data =  {\n",
        "    'values':[21,34,342,65,23,65,67,45,23,65,21,45,76,65,6,223,877,434]\n",
        "}\n",
        "df = pd.DataFrame(data)\n",
        "variance_value = df['values'].var()\n",
        "print(\"This is the variance value\",variance_value)\n",
        "std_value = df['values'].std()\n",
        "print(\"This is the standard deviation value\",std_value)"
      ],
      "metadata": {
        "colab": {
          "base_uri": "https://localhost:8080/"
        },
        "id": "siNd-uCh_yBz",
        "outputId": "a6e83310-831c-490b-f7a1-2f6caa2b89e2"
      },
      "execution_count": null,
      "outputs": [
        {
          "output_type": "stream",
          "name": "stdout",
          "text": [
            "This is the variance value 47772.68300653595\n",
            "This is the standard deviation value 218.56962965274008\n"
          ]
        }
      ]
    },
    {
      "cell_type": "code",
      "source": [],
      "metadata": {
        "id": "TnA84sJhEXO6"
      },
      "execution_count": null,
      "outputs": []
    }
  ]
}